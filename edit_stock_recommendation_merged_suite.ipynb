{
 "cells": [
  {
   "cell_type": "markdown",
   "id": "ae115f97",
   "metadata": {},
   "source": [
    "# Edit Your Expectation Suite\n",
    "Use this notebook to recreate and modify your expectation suite:\n",
    "\n",
    "**Expectation Suite Name**: `stock_recommendation_merged_suite`\n"
   ]
  },
  {
   "cell_type": "code",
   "execution_count": 1,
   "id": "0f3f417c",
   "metadata": {},
   "outputs": [
    {
     "name": "stderr",
     "output_type": "stream",
     "text": [
      "/Users/srivenkatasatyaakhilmalladi/opt/anaconda3/lib/python3.9/inspect.py:351: FutureWarning: pandas.Float64Index is deprecated and will be removed from pandas in a future version. Use pandas.Index with the appropriate dtype instead.\n",
      "  value = getattr(object, key)\n",
      "/Users/srivenkatasatyaakhilmalladi/opt/anaconda3/lib/python3.9/inspect.py:351: FutureWarning: pandas.Int64Index is deprecated and will be removed from pandas in a future version. Use pandas.Index with the appropriate dtype instead.\n",
      "  value = getattr(object, key)\n",
      "/Users/srivenkatasatyaakhilmalladi/opt/anaconda3/lib/python3.9/inspect.py:351: FutureWarning: pandas.UInt64Index is deprecated and will be removed from pandas in a future version. Use pandas.Index with the appropriate dtype instead.\n",
      "  value = getattr(object, key)\n"
     ]
    },
    {
     "name": "stdout",
     "output_type": "stream",
     "text": [
      "2023-04-21T18:37:58-0400 - INFO - Great Expectations logging enabled at 20 level by JupyterUX module.\n",
      "2023-04-21T18:37:58-0400 - INFO - FileDataContext loading zep config\n",
      "2023-04-21T18:37:58-0400 - INFO - GxConfig.parse_yaml() failed with errors - [{'loc': ('xdatasources',), 'msg': 'field required', 'type': 'value_error.missing'}]\n",
      "2023-04-21T18:37:58-0400 - INFO - GxConfig.parse_yaml() returning empty `xdatasources`\n",
      "2023-04-21T18:37:58-0400 - INFO - Loading 'datasources' ->\n",
      "{}\n",
      "2023-04-21T18:37:58-0400 - INFO - Loaded 'datasources' ->\n",
      "{}\n",
      "Loaded ExpectationSuite \"stock_recommendation_merged_suite\" containing 10 expectations.\n"
     ]
    }
   ],
   "source": [
    "import datetime\n",
    "\n",
    "import pandas as pd\n",
    "\n",
    "import great_expectations as gx\n",
    "import great_expectations.jupyter_ux\n",
    "from great_expectations.core.expectation_configuration import ExpectationConfiguration\n",
    "from great_expectations.data_context.types.resource_identifiers import (\n",
    "    ExpectationSuiteIdentifier,\n",
    ")\n",
    "from great_expectations.exceptions import DataContextError\n",
    "\n",
    "context = gx.get_context()\n",
    "\n",
    "\n",
    "# Feel free to change the name of your suite here. Renaming this will not remove the other one.\n",
    "expectation_suite_name = \"stock_recommendation_merged_suite\"\n",
    "try:\n",
    "    suite = context.get_expectation_suite(expectation_suite_name=expectation_suite_name)\n",
    "    print(\n",
    "        f'Loaded ExpectationSuite \"{suite.expectation_suite_name}\" containing {len(suite.expectations)} expectations.'\n",
    "    )\n",
    "except DataContextError:\n",
    "    suite = context.create_expectation_suite(\n",
    "        expectation_suite_name=expectation_suite_name\n",
    "    )\n",
    "    print(f'Created ExpectationSuite \"{suite.expectation_suite_name}\".')"
   ]
  },
  {
   "cell_type": "markdown",
   "id": "b16f0d70",
   "metadata": {},
   "source": [
    "## Create & Edit Expectations\n",
    "\n",
    "\n",
    "You are adding Expectation configurations to the suite. Since you selected manual mode, there is no sample batch of data and no validation happens during this process. See our documentation for more info and examples: **[How to create a new Expectation Suite without a sample batch](https://docs.greatexpectations.io/docs/guides/expectations/how_to_create_and_edit_expectations_based_on_domain_knowledge_without_inspecting_data_directly)**.\n",
    "\n",
    "Note that if you do use interactive mode you may specify a sample batch of data to use when creating your Expectation Suite. You can then use a `validator` to get immediate feedback on your Expectations against your specified sample batch.\n",
    "\n",
    "\n",
    "You can see all the available expectations in the **[expectation gallery](https://greatexpectations.io/expectations)**."
   ]
  },
  {
   "cell_type": "markdown",
   "id": "7a8a3795",
   "metadata": {},
   "source": [
    "### Table Expectation(s)"
   ]
  },
  {
   "cell_type": "code",
   "execution_count": 2,
   "id": "e8e8e49d",
   "metadata": {},
   "outputs": [
    {
     "data": {
      "text/plain": [
       "{\"kwargs\": {\"max_value\": 10000, \"min_value\": 0}, \"meta\": {\"profiler_details\": {\"metric_configuration\": {\"domain_kwargs\": {}, \"metric_name\": \"table.row_count\", \"metric_value_kwargs\": null}, \"num_batches\": 1}}, \"expectation_type\": \"expect_table_row_count_to_be_between\"}"
      ]
     },
     "execution_count": 2,
     "metadata": {},
     "output_type": "execute_result"
    }
   ],
   "source": [
    "expectation_configuration = ExpectationConfiguration(\n",
    "    **{\n",
    "        \"kwargs\": {\"max_value\": 10000, \"min_value\": 0},\n",
    "        \"expectation_type\": \"expect_table_row_count_to_be_between\",\n",
    "        \"meta\": {\n",
    "            \"profiler_details\": {\n",
    "                \"metric_configuration\": {\n",
    "                    \"domain_kwargs\": {},\n",
    "                    \"metric_name\": \"table.row_count\",\n",
    "                    \"metric_value_kwargs\": None,\n",
    "                },\n",
    "                \"num_batches\": 1,\n",
    "            }\n",
    "        },\n",
    "    }\n",
    ")\n",
    "suite.add_expectation(expectation_configuration=expectation_configuration)"
   ]
  },
  {
   "cell_type": "code",
   "execution_count": 3,
   "id": "5a07d88a",
   "metadata": {},
   "outputs": [
    {
     "data": {
      "text/plain": [
       "{\"kwargs\": {\"column_set\": [\"close\", \"volume\", \"symbol\", \"adjusted_close\", \"split_coefficient\", \"date\", \"sentiment\", \"dividend_amount\", \"high\", \"open\", \"next_week_return\", \"low\", \"daily_return\"]}, \"meta\": {\"profiler_details\": {\"success_ratio\": 1.0}}, \"expectation_type\": \"expect_table_columns_to_match_set\"}"
      ]
     },
     "execution_count": 3,
     "metadata": {},
     "output_type": "execute_result"
    }
   ],
   "source": [
    "expectation_configuration = ExpectationConfiguration(\n",
    "    **{\n",
    "        \"kwargs\": {\n",
    "            \"column_set\": [\n",
    "                \"close\",\n",
    "                \"volume\",\n",
    "                \"symbol\",\n",
    "                \"adjusted_close\",\n",
    "                \"split_coefficient\",\n",
    "                \"date\",\n",
    "                \"sentiment\",\n",
    "                \"dividend_amount\",\n",
    "                \"high\",\n",
    "                \"open\",\n",
    "                \"next_week_return\",\n",
    "                \"low\",\n",
    "                \"daily_return\",\n",
    "            ]\n",
    "        },\n",
    "        \"expectation_type\": \"expect_table_columns_to_match_set\",\n",
    "        \"meta\": {\"profiler_details\": {\"success_ratio\": 1.0}},\n",
    "    }\n",
    ")\n",
    "suite.add_expectation(expectation_configuration=expectation_configuration)"
   ]
  },
  {
   "cell_type": "markdown",
   "id": "19f8d5f3",
   "metadata": {},
   "source": [
    "### Column Expectation(s)"
   ]
  },
  {
   "cell_type": "markdown",
   "id": "0230b2a9",
   "metadata": {},
   "source": [
    "#### `sentiment`"
   ]
  },
  {
   "cell_type": "code",
   "execution_count": 4,
   "id": "15dfbce2",
   "metadata": {},
   "outputs": [
    {
     "data": {
      "text/plain": [
       "{\"kwargs\": {\"column\": \"sentiment\", \"max_value\": 1, \"min_value\": -1}, \"meta\": {\"description\": \"Check that the sentiment column has values between 0 and 1.\", \"notes\": null, \"tags\": []}, \"expectation_type\": \"expect_column_values_to_be_between\"}"
      ]
     },
     "execution_count": 4,
     "metadata": {},
     "output_type": "execute_result"
    }
   ],
   "source": [
    "expectation_configuration = ExpectationConfiguration(\n",
    "    **{\n",
    "        \"kwargs\": {\"column\": \"sentiment\", \"max_value\": 1, \"min_value\": -1},\n",
    "        \"expectation_type\": \"expect_column_values_to_be_between\",\n",
    "        \"meta\": {\n",
    "            \"description\": \"Check that the sentiment column has values between 0 and 1.\",\n",
    "            \"notes\": None,\n",
    "            \"tags\": [],\n",
    "        },\n",
    "    }\n",
    ")\n",
    "suite.add_expectation(expectation_configuration=expectation_configuration)"
   ]
  },
  {
   "cell_type": "markdown",
   "id": "c6a75df5",
   "metadata": {},
   "source": [
    "#### `daily_return`"
   ]
  },
  {
   "cell_type": "code",
   "execution_count": 5,
   "id": "e876fbf0",
   "metadata": {},
   "outputs": [
    {
     "data": {
      "text/plain": [
       "{\"kwargs\": {\"column\": \"daily_return\", \"max_value\": 1, \"min_value\": -1}, \"meta\": {\"description\": \"Check that the daily_return and next_week_return columns have values between -1 and 1.\", \"notes\": null, \"tags\": []}, \"expectation_type\": \"expect_column_values_to_be_between\"}"
      ]
     },
     "execution_count": 5,
     "metadata": {},
     "output_type": "execute_result"
    }
   ],
   "source": [
    "expectation_configuration = ExpectationConfiguration(\n",
    "    **{\n",
    "        \"kwargs\": {\"column\": \"daily_return\", \"max_value\": 1, \"min_value\": -1},\n",
    "        \"expectation_type\": \"expect_column_values_to_be_between\",\n",
    "        \"meta\": {\n",
    "            \"description\": \"Check that the daily_return and next_week_return columns have values between -1 and 1.\",\n",
    "            \"notes\": None,\n",
    "            \"tags\": [],\n",
    "        },\n",
    "    }\n",
    ")\n",
    "suite.add_expectation(expectation_configuration=expectation_configuration)"
   ]
  },
  {
   "cell_type": "markdown",
   "id": "fda1a444",
   "metadata": {},
   "source": [
    "#### `next_week_return`"
   ]
  },
  {
   "cell_type": "code",
   "execution_count": 6,
   "id": "391f189a",
   "metadata": {},
   "outputs": [
    {
     "data": {
      "text/plain": [
       "{\"kwargs\": {\"column\": \"next_week_return\", \"max_value\": 1, \"min_value\": -1}, \"meta\": {\"description\": \"Check that the daily_return and next_week_return columns have values between -1 and 1.\", \"notes\": null, \"tags\": []}, \"expectation_type\": \"expect_column_values_to_be_between\"}"
      ]
     },
     "execution_count": 6,
     "metadata": {},
     "output_type": "execute_result"
    }
   ],
   "source": [
    "expectation_configuration = ExpectationConfiguration(\n",
    "    **{\n",
    "        \"kwargs\": {\"column\": \"next_week_return\", \"max_value\": 1, \"min_value\": -1},\n",
    "        \"expectation_type\": \"expect_column_values_to_be_between\",\n",
    "        \"meta\": {\n",
    "            \"description\": \"Check that the daily_return and next_week_return columns have values between -1 and 1.\",\n",
    "            \"notes\": None,\n",
    "            \"tags\": [],\n",
    "        },\n",
    "    }\n",
    ")\n",
    "suite.add_expectation(expectation_configuration=expectation_configuration)"
   ]
  },
  {
   "cell_type": "markdown",
   "id": "517c7378",
   "metadata": {},
   "source": [
    "#### `high`"
   ]
  },
  {
   "cell_type": "code",
   "execution_count": 7,
   "id": "eadae8d8",
   "metadata": {},
   "outputs": [
    {
     "data": {
      "text/plain": [
       "{\"kwargs\": {\"column\": \"high\", \"max_value\": 1000000, \"min_value\": 0, \"mostly\": 1, \"parse_strings_as_datetimes\": false}, \"meta\": {\"description\": \"Check that high, open, low, and close columns do not have null values or values that are either zero or negative.\", \"notes\": null, \"tags\": []}, \"expectation_type\": \"expect_column_values_to_be_between\"}"
      ]
     },
     "execution_count": 7,
     "metadata": {},
     "output_type": "execute_result"
    }
   ],
   "source": [
    "expectation_configuration = ExpectationConfiguration(\n",
    "    **{\n",
    "        \"kwargs\": {\n",
    "            \"column\": \"high\",\n",
    "            \"max_value\": 1000000,\n",
    "            \"min_value\": 0,\n",
    "            \"mostly\": 1,\n",
    "            \"parse_strings_as_datetimes\": False,\n",
    "        },\n",
    "        \"expectation_type\": \"expect_column_values_to_be_between\",\n",
    "        \"meta\": {\n",
    "            \"description\": \"Check that high, open, low, and close columns do not have null values or values that are either zero or negative.\",\n",
    "            \"notes\": None,\n",
    "            \"tags\": [],\n",
    "        },\n",
    "    }\n",
    ")\n",
    "suite.add_expectation(expectation_configuration=expectation_configuration)"
   ]
  },
  {
   "cell_type": "markdown",
   "id": "c98d7f5a",
   "metadata": {},
   "source": [
    "#### `open`"
   ]
  },
  {
   "cell_type": "code",
   "execution_count": 8,
   "id": "ca7083e6",
   "metadata": {},
   "outputs": [
    {
     "data": {
      "text/plain": [
       "{\"kwargs\": {\"column\": \"open\", \"max_value\": 1000000, \"min_value\": 0, \"mostly\": 1, \"parse_strings_as_datetimes\": false}, \"meta\": {\"description\": \"Check that high, open, low, and close columns do not have null values or values that are either zero or negative.\", \"notes\": null, \"tags\": []}, \"expectation_type\": \"expect_column_values_to_be_between\"}"
      ]
     },
     "execution_count": 8,
     "metadata": {},
     "output_type": "execute_result"
    }
   ],
   "source": [
    "expectation_configuration = ExpectationConfiguration(\n",
    "    **{\n",
    "        \"kwargs\": {\n",
    "            \"column\": \"open\",\n",
    "            \"max_value\": 1000000,\n",
    "            \"min_value\": 0,\n",
    "            \"mostly\": 1,\n",
    "            \"parse_strings_as_datetimes\": False,\n",
    "        },\n",
    "        \"expectation_type\": \"expect_column_values_to_be_between\",\n",
    "        \"meta\": {\n",
    "            \"description\": \"Check that high, open, low, and close columns do not have null values or values that are either zero or negative.\",\n",
    "            \"notes\": None,\n",
    "            \"tags\": [],\n",
    "        },\n",
    "    }\n",
    ")\n",
    "suite.add_expectation(expectation_configuration=expectation_configuration)"
   ]
  },
  {
   "cell_type": "markdown",
   "id": "244744d0",
   "metadata": {},
   "source": [
    "#### `low`"
   ]
  },
  {
   "cell_type": "code",
   "execution_count": 9,
   "id": "71027d04",
   "metadata": {},
   "outputs": [
    {
     "data": {
      "text/plain": [
       "{\"kwargs\": {\"column\": \"low\", \"max_value\": 1000000, \"min_value\": 0, \"mostly\": 1, \"parse_strings_as_datetimes\": false}, \"meta\": {\"description\": \"Check that high, open, low, and close columns do not have null values or values that are either zero or negative.\", \"notes\": null, \"tags\": []}, \"expectation_type\": \"expect_column_values_to_be_between\"}"
      ]
     },
     "execution_count": 9,
     "metadata": {},
     "output_type": "execute_result"
    }
   ],
   "source": [
    "expectation_configuration = ExpectationConfiguration(\n",
    "    **{\n",
    "        \"kwargs\": {\n",
    "            \"column\": \"low\",\n",
    "            \"max_value\": 1000000,\n",
    "            \"min_value\": 0,\n",
    "            \"mostly\": 1,\n",
    "            \"parse_strings_as_datetimes\": False,\n",
    "        },\n",
    "        \"expectation_type\": \"expect_column_values_to_be_between\",\n",
    "        \"meta\": {\n",
    "            \"description\": \"Check that high, open, low, and close columns do not have null values or values that are either zero or negative.\",\n",
    "            \"notes\": None,\n",
    "            \"tags\": [],\n",
    "        },\n",
    "    }\n",
    ")\n",
    "suite.add_expectation(expectation_configuration=expectation_configuration)"
   ]
  },
  {
   "cell_type": "markdown",
   "id": "67040481",
   "metadata": {},
   "source": [
    "#### `close`"
   ]
  },
  {
   "cell_type": "code",
   "execution_count": 10,
   "id": "20ed7fc7",
   "metadata": {},
   "outputs": [
    {
     "data": {
      "text/plain": [
       "{\"kwargs\": {\"column\": \"close\", \"max_value\": 1000000, \"min_value\": 0, \"mostly\": 1, \"parse_strings_as_datetimes\": false}, \"meta\": {\"description\": \"Check that high, open, low, and close columns do not have null values or values that are either zero or negative.\", \"notes\": null, \"tags\": []}, \"expectation_type\": \"expect_column_values_to_be_between\"}"
      ]
     },
     "execution_count": 10,
     "metadata": {},
     "output_type": "execute_result"
    }
   ],
   "source": [
    "expectation_configuration = ExpectationConfiguration(\n",
    "    **{\n",
    "        \"kwargs\": {\n",
    "            \"column\": \"close\",\n",
    "            \"max_value\": 1000000,\n",
    "            \"min_value\": 0,\n",
    "            \"mostly\": 1,\n",
    "            \"parse_strings_as_datetimes\": False,\n",
    "        },\n",
    "        \"expectation_type\": \"expect_column_values_to_be_between\",\n",
    "        \"meta\": {\n",
    "            \"description\": \"Check that high, open, low, and close columns do not have null values or values that are either zero or negative.\",\n",
    "            \"notes\": None,\n",
    "            \"tags\": [],\n",
    "        },\n",
    "    }\n",
    ")\n",
    "suite.add_expectation(expectation_configuration=expectation_configuration)"
   ]
  },
  {
   "cell_type": "markdown",
   "id": "7d066918",
   "metadata": {},
   "source": [
    "#### `dividend_amount`"
   ]
  },
  {
   "cell_type": "code",
   "execution_count": 11,
   "id": "a1099ceb",
   "metadata": {},
   "outputs": [
    {
     "data": {
      "text/plain": [
       "{\"kwargs\": {\"column\": \"dividend_amount\", \"max_value\": 1000000, \"min_value\": 0, \"mostly\": 1, \"parse_strings_as_datetimes\": false}, \"meta\": {\"description\": \"Check that high, open, low, and close columns do not have null values or values that are either zero or negative.\", \"notes\": null, \"tags\": []}, \"expectation_type\": \"expect_column_values_to_be_between\"}"
      ]
     },
     "execution_count": 11,
     "metadata": {},
     "output_type": "execute_result"
    }
   ],
   "source": [
    "expectation_configuration = ExpectationConfiguration(\n",
    "    **{\n",
    "        \"kwargs\": {\n",
    "            \"column\": \"dividend_amount\",\n",
    "            \"max_value\": 1000000,\n",
    "            \"min_value\": 0,\n",
    "            \"mostly\": 1,\n",
    "            \"parse_strings_as_datetimes\": False,\n",
    "        },\n",
    "        \"expectation_type\": \"expect_column_values_to_be_between\",\n",
    "        \"meta\": {\n",
    "            \"description\": \"Check that high, open, low, and close columns do not have null values or values that are either zero or negative.\",\n",
    "            \"notes\": None,\n",
    "            \"tags\": [],\n",
    "        },\n",
    "    }\n",
    ")\n",
    "suite.add_expectation(expectation_configuration=expectation_configuration)"
   ]
  },
  {
   "cell_type": "markdown",
   "id": "9e86e115",
   "metadata": {},
   "source": [
    "## Review & Save Your Expectations\n",
    "\n",
    "Let's save the expectation suite as a JSON file in the `great_expectations/expectations` directory of your project.\n",
    "\n",
    "Let's now rebuild your Data Docs, which helps you communicate about your data with both machines and humans."
   ]
  },
  {
   "cell_type": "code",
   "execution_count": 12,
   "id": "9b98e0ec",
   "metadata": {},
   "outputs": [
    {
     "name": "stdout",
     "output_type": "stream",
     "text": [
      "{\n",
      "  \"data_asset_type\": null,\n",
      "  \"expectations\": [\n",
      "    {\n",
      "      \"kwargs\": {\n",
      "        \"max_value\": 10000,\n",
      "        \"min_value\": 0\n",
      "      },\n",
      "      \"meta\": {\n",
      "        \"profiler_details\": {\n",
      "          \"metric_configuration\": {\n",
      "            \"domain_kwargs\": {},\n",
      "            \"metric_name\": \"table.row_count\",\n",
      "            \"metric_value_kwargs\": null\n",
      "          },\n",
      "          \"num_batches\": 1\n",
      "        }\n",
      "      },\n",
      "      \"expectation_type\": \"expect_table_row_count_to_be_between\"\n",
      "    },\n",
      "    {\n",
      "      \"kwargs\": {\n",
      "        \"column\": \"sentiment\",\n",
      "        \"max_value\": 1,\n",
      "        \"min_value\": -1\n",
      "      },\n",
      "      \"meta\": {\n",
      "        \"description\": \"Check that the sentiment column has values between 0 and 1.\",\n",
      "        \"notes\": null,\n",
      "        \"tags\": []\n",
      "      },\n",
      "      \"expectation_type\": \"expect_column_values_to_be_between\"\n",
      "    },\n",
      "    {\n",
      "      \"kwargs\": {\n",
      "        \"column\": \"daily_return\",\n",
      "        \"max_value\": 1,\n",
      "        \"min_value\": -1\n",
      "      },\n",
      "      \"meta\": {\n",
      "        \"description\": \"Check that the daily_return and next_week_return columns have values between -1 and 1.\",\n",
      "        \"notes\": null,\n",
      "        \"tags\": []\n",
      "      },\n",
      "      \"expectation_type\": \"expect_column_values_to_be_between\"\n",
      "    },\n",
      "    {\n",
      "      \"kwargs\": {\n",
      "        \"column\": \"next_week_return\",\n",
      "        \"max_value\": 1,\n",
      "        \"min_value\": -1\n",
      "      },\n",
      "      \"meta\": {\n",
      "        \"description\": \"Check that the daily_return and next_week_return columns have values between -1 and 1.\",\n",
      "        \"notes\": null,\n",
      "        \"tags\": []\n",
      "      },\n",
      "      \"expectation_type\": \"expect_column_values_to_be_between\"\n",
      "    },\n",
      "    {\n",
      "      \"kwargs\": {\n",
      "        \"column\": \"high\",\n",
      "        \"max_value\": 1000000,\n",
      "        \"min_value\": 0,\n",
      "        \"mostly\": 1,\n",
      "        \"parse_strings_as_datetimes\": false\n",
      "      },\n",
      "      \"meta\": {\n",
      "        \"description\": \"Check that high, open, low, and close columns do not have null values or values that are either zero or negative.\",\n",
      "        \"notes\": null,\n",
      "        \"tags\": []\n",
      "      },\n",
      "      \"expectation_type\": \"expect_column_values_to_be_between\"\n",
      "    },\n",
      "    {\n",
      "      \"kwargs\": {\n",
      "        \"column\": \"open\",\n",
      "        \"max_value\": 1000000,\n",
      "        \"min_value\": 0,\n",
      "        \"mostly\": 1,\n",
      "        \"parse_strings_as_datetimes\": false\n",
      "      },\n",
      "      \"meta\": {\n",
      "        \"description\": \"Check that high, open, low, and close columns do not have null values or values that are either zero or negative.\",\n",
      "        \"notes\": null,\n",
      "        \"tags\": []\n",
      "      },\n",
      "      \"expectation_type\": \"expect_column_values_to_be_between\"\n",
      "    },\n",
      "    {\n",
      "      \"kwargs\": {\n",
      "        \"column\": \"low\",\n",
      "        \"max_value\": 1000000,\n",
      "        \"min_value\": 0,\n",
      "        \"mostly\": 1,\n",
      "        \"parse_strings_as_datetimes\": false\n",
      "      },\n",
      "      \"meta\": {\n",
      "        \"description\": \"Check that high, open, low, and close columns do not have null values or values that are either zero or negative.\",\n",
      "        \"notes\": null,\n",
      "        \"tags\": []\n",
      "      },\n",
      "      \"expectation_type\": \"expect_column_values_to_be_between\"\n",
      "    },\n",
      "    {\n",
      "      \"kwargs\": {\n",
      "        \"column\": \"close\",\n",
      "        \"max_value\": 1000000,\n",
      "        \"min_value\": 0,\n",
      "        \"mostly\": 1,\n",
      "        \"parse_strings_as_datetimes\": false\n",
      "      },\n",
      "      \"meta\": {\n",
      "        \"description\": \"Check that high, open, low, and close columns do not have null values or values that are either zero or negative.\",\n",
      "        \"notes\": null,\n",
      "        \"tags\": []\n",
      "      },\n",
      "      \"expectation_type\": \"expect_column_values_to_be_between\"\n",
      "    },\n",
      "    {\n",
      "      \"kwargs\": {\n",
      "        \"column\": \"dividend_amount\",\n",
      "        \"max_value\": 1000000,\n",
      "        \"min_value\": 0,\n",
      "        \"mostly\": 1,\n",
      "        \"parse_strings_as_datetimes\": false\n",
      "      },\n",
      "      \"meta\": {\n",
      "        \"description\": \"Check that high, open, low, and close columns do not have null values or values that are either zero or negative.\",\n",
      "        \"notes\": null,\n",
      "        \"tags\": []\n",
      "      },\n",
      "      \"expectation_type\": \"expect_column_values_to_be_between\"\n",
      "    },\n",
      "    {\n",
      "      \"kwargs\": {\n",
      "        \"column_set\": [\n",
      "          \"close\",\n",
      "          \"volume\",\n",
      "          \"symbol\",\n",
      "          \"adjusted_close\",\n",
      "          \"split_coefficient\",\n",
      "          \"date\",\n",
      "          \"sentiment\",\n",
      "          \"dividend_amount\",\n",
      "          \"high\",\n",
      "          \"open\",\n",
      "          \"next_week_return\",\n",
      "          \"low\",\n",
      "          \"daily_return\"\n",
      "        ]\n",
      "      },\n",
      "      \"meta\": {\n",
      "        \"profiler_details\": {\n",
      "          \"success_ratio\": 1.0\n",
      "        }\n",
      "      },\n",
      "      \"expectation_type\": \"expect_table_columns_to_match_set\"\n",
      "    }\n",
      "  ],\n",
      "  \"expectation_suite_name\": \"stock_recommendation_merged_suite\",\n",
      "  \"ge_cloud_id\": null,\n",
      "  \"meta\": {\n",
      "    \"citations\": [\n",
      "      {\n",
      "        \"citation_date\": \"2023-04-21T06:19:15.106670Z\",\n",
      "        \"comment\": \"Created by effective Rule-Based Profiler of OnboardingDataAssistant with the configuration included.\\n\"\n",
      "      }\n",
      "    ],\n",
      "    \"great_expectations_version\": \"0.15.47\"\n",
      "  }\n",
      "}\n"
     ]
    }
   ],
   "source": [
    "print(context.get_expectation_suite(expectation_suite_name=expectation_suite_name))\n",
    "context.save_expectation_suite(expectation_suite=suite, expectation_suite_name=expectation_suite_name)\n",
    "\n",
    "suite_identifier = ExpectationSuiteIdentifier(expectation_suite_name=expectation_suite_name)\n",
    "context.build_data_docs(resource_identifiers=[suite_identifier])\n",
    "context.open_data_docs(resource_identifier=suite_identifier)"
   ]
  }
 ],
 "metadata": {
  "kernelspec": {
   "display_name": "Python 3 (ipykernel)",
   "language": "python",
   "name": "python3"
  },
  "language_info": {
   "codemirror_mode": {
    "name": "ipython",
    "version": 3
   },
   "file_extension": ".py",
   "mimetype": "text/x-python",
   "name": "python",
   "nbconvert_exporter": "python",
   "pygments_lexer": "ipython3",
   "version": "3.9.12"
  }
 },
 "nbformat": 4,
 "nbformat_minor": 5
}
